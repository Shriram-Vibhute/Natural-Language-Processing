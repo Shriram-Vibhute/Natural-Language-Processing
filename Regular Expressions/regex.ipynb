{
 "cells": [
  {
   "cell_type": "markdown",
   "id": "2a9b72a7",
   "metadata": {},
   "source": [
    "*Unresolved Questions* <br>\n",
    "    - What is the difference between list, iterators and generators and how to create iterators?\n",
    "\n",
    "---"
   ]
  },
  {
   "cell_type": "code",
   "execution_count": 1,
   "id": "a9a92d0f",
   "metadata": {},
   "outputs": [],
   "source": [
    "import re"
   ]
  },
  {
   "cell_type": "code",
   "execution_count": 2,
   "id": "2cf19ea1",
   "metadata": {},
   "outputs": [],
   "source": [
    "test_string = \"123abc456789abc123ABC\""
   ]
  },
  {
   "cell_type": "code",
   "execution_count": 3,
   "id": "6a25efed",
   "metadata": {},
   "outputs": [],
   "source": [
    "pattern = re.compile(pattern=r\"123\")"
   ]
  },
  {
   "cell_type": "code",
   "execution_count": 4,
   "id": "88440d57",
   "metadata": {},
   "outputs": [
    {
     "data": {
      "text/plain": [
       "<re.Match object; span=(0, 3), match='123'>"
      ]
     },
     "execution_count": 4,
     "metadata": {},
     "output_type": "execute_result"
    }
   ],
   "source": [
    "# match function only checks whether the pattern matches at the start of the string and not anywere else. If it matches then returns the match object otherwise returns the none\n",
    "match = re.match(pattern=pattern, string=test_string)\n",
    "match"
   ]
  },
  {
   "cell_type": "code",
   "execution_count": 5,
   "id": "b9af59c8",
   "metadata": {},
   "outputs": [
    {
     "data": {
      "text/plain": [
       "(0, 3)"
      ]
     },
     "execution_count": 5,
     "metadata": {},
     "output_type": "execute_result"
    }
   ],
   "source": [
    "match.span()"
   ]
  },
  {
   "cell_type": "code",
   "execution_count": 6,
   "id": "59ac1b5e",
   "metadata": {},
   "outputs": [
    {
     "data": {
      "text/plain": [
       "'123'"
      ]
     },
     "execution_count": 6,
     "metadata": {},
     "output_type": "execute_result"
    }
   ],
   "source": [
    "match.group()"
   ]
  },
  {
   "cell_type": "code",
   "execution_count": 7,
   "id": "41d92880",
   "metadata": {},
   "outputs": [
    {
     "data": {
      "text/plain": [
       "0"
      ]
     },
     "execution_count": 7,
     "metadata": {},
     "output_type": "execute_result"
    }
   ],
   "source": [
    "match.start()"
   ]
  },
  {
   "cell_type": "code",
   "execution_count": 8,
   "id": "b8ae9bfe",
   "metadata": {},
   "outputs": [
    {
     "data": {
      "text/plain": [
       "3"
      ]
     },
     "execution_count": 8,
     "metadata": {},
     "output_type": "execute_result"
    }
   ],
   "source": [
    "match.end()"
   ]
  },
  {
   "cell_type": "markdown",
   "id": "a82ee106",
   "metadata": {},
   "source": [
    "---"
   ]
  },
  {
   "cell_type": "code",
   "execution_count": 9,
   "id": "b339089d",
   "metadata": {},
   "outputs": [
    {
     "data": {
      "text/plain": [
       "'123abc456789abc123ABC'"
      ]
     },
     "execution_count": 9,
     "metadata": {},
     "output_type": "execute_result"
    }
   ],
   "source": [
    "test_string"
   ]
  },
  {
   "cell_type": "code",
   "execution_count": null,
   "id": "41d989e3",
   "metadata": {},
   "outputs": [
    {
     "data": {
      "text/plain": [
       "<re.Match object; span=(0, 3), match='123'>"
      ]
     },
     "execution_count": 11,
     "metadata": {},
     "output_type": "execute_result"
    }
   ],
   "source": [
    "# search function search the pattern in the whole document but returns the first occurance of the pattern. Returns None if no matching pattern found in the document\n",
    "search = re.search(pattern=pattern, string=test_string)\n",
    "search"
   ]
  },
  {
   "cell_type": "code",
   "execution_count": 12,
   "id": "daf9740c",
   "metadata": {},
   "outputs": [
    {
     "data": {
      "text/plain": [
       "'123'"
      ]
     },
     "execution_count": 12,
     "metadata": {},
     "output_type": "execute_result"
    }
   ],
   "source": [
    "search.group()"
   ]
  },
  {
   "cell_type": "code",
   "execution_count": 13,
   "id": "c6c7383a",
   "metadata": {},
   "outputs": [
    {
     "data": {
      "text/plain": [
       "re.compile(r'abc', re.UNICODE)"
      ]
     },
     "execution_count": 13,
     "metadata": {},
     "output_type": "execute_result"
    }
   ],
   "source": [
    "pattern_2 = re.compile(pattern=r\"abc\")\n",
    "pattern_2"
   ]
  },
  {
   "cell_type": "code",
   "execution_count": 14,
   "id": "2888a0e1",
   "metadata": {},
   "outputs": [
    {
     "data": {
      "text/plain": [
       "'abc'"
      ]
     },
     "execution_count": 14,
     "metadata": {},
     "output_type": "execute_result"
    }
   ],
   "source": [
    "search = re.search(pattern=pattern_2, string=test_string)\n",
    "search.group()"
   ]
  },
  {
   "cell_type": "markdown",
   "id": "248acdf5",
   "metadata": {},
   "source": [
    "---"
   ]
  },
  {
   "cell_type": "code",
   "execution_count": 15,
   "id": "badca140",
   "metadata": {},
   "outputs": [
    {
     "data": {
      "text/plain": [
       "['abc', 'abc']"
      ]
     },
     "execution_count": 15,
     "metadata": {},
     "output_type": "execute_result"
    }
   ],
   "source": [
    "matches = re.findall(pattern=pattern_2, string=test_string)\n",
    "matches"
   ]
  },
  {
   "cell_type": "code",
   "execution_count": 16,
   "id": "cb08de39",
   "metadata": {},
   "outputs": [
    {
     "data": {
      "text/plain": [
       "<callable_iterator at 0x21abe1a7b20>"
      ]
     },
     "execution_count": 16,
     "metadata": {},
     "output_type": "execute_result"
    }
   ],
   "source": [
    "matches = re.finditer(pattern=pattern_2, string=test_string)\n",
    "matches"
   ]
  },
  {
   "cell_type": "code",
   "execution_count": null,
   "id": "48e6da87",
   "metadata": {},
   "outputs": [],
   "source": [
    "for match in matches:\n",
    "    print(match)"
   ]
  },
  {
   "cell_type": "markdown",
   "id": "a6b33694",
   "metadata": {},
   "source": [
    "---"
   ]
  },
  {
   "cell_type": "code",
   "execution_count": 20,
   "id": "b9ed80d7",
   "metadata": {},
   "outputs": [],
   "source": [
    "# Meta Characters\n",
    "test_string_1 = \"123abc.456789abc123defGHI.ABC \\n xyz345WXYZ\"\n",
    "test_string_2 = \"The cat sat on the mat with a bat and a hat.\"\n",
    "test_string_3 = \"The cat sat on the mat with a bat and a hat. $at, 8at, at.\"\n",
    "text = \"\"\"Hello World!\n",
    "This is a test.\n",
    "Hello again!\n",
    "Python is fun.\n",
    "Hello Python\"\"\""
   ]
  },
  {
   "cell_type": "code",
   "execution_count": null,
   "id": "bbb6014d",
   "metadata": {},
   "outputs": [
    {
     "data": {
      "text/plain": [
       "['1',\n",
       " '2',\n",
       " '3',\n",
       " 'a',\n",
       " 'b',\n",
       " 'c',\n",
       " '.',\n",
       " '4',\n",
       " '5',\n",
       " '6',\n",
       " '7',\n",
       " '8',\n",
       " '9',\n",
       " 'a',\n",
       " 'b',\n",
       " 'c',\n",
       " '1',\n",
       " '2',\n",
       " '3',\n",
       " 'd',\n",
       " 'e',\n",
       " 'f',\n",
       " 'G',\n",
       " 'H',\n",
       " 'I',\n",
       " '.',\n",
       " 'A',\n",
       " 'B',\n",
       " 'C',\n",
       " ' ',\n",
       " ' ',\n",
       " 'x',\n",
       " 'y',\n",
       " 'z',\n",
       " '3',\n",
       " '4',\n",
       " '5',\n",
       " 'W',\n",
       " 'X',\n",
       " 'Y',\n",
       " 'Z']"
      ]
     },
     "execution_count": 21,
     "metadata": {},
     "output_type": "execute_result"
    }
   ],
   "source": [
    "# . meta character is used to match any character except \\n (new line)\n",
    "pattern = re.compile(r\".\")\n",
    "re.findall(pattern=pattern, string=test_string_1)"
   ]
  },
  {
   "cell_type": "code",
   "execution_count": null,
   "id": "2c1faffb",
   "metadata": {},
   "outputs": [
    {
     "data": {
      "text/plain": [
       "['Hello']"
      ]
     },
     "execution_count": 23,
     "metadata": {},
     "output_type": "execute_result"
    }
   ],
   "source": [
    "# ^ meta character used to match the pattern with the starting of the string else None\n",
    "pattern = re.compile(r\"^Hello\")\n",
    "re.findall(pattern, text)"
   ]
  },
  {
   "cell_type": "code",
   "execution_count": 24,
   "id": "c24314ca",
   "metadata": {},
   "outputs": [
    {
     "data": {
      "text/plain": [
       "['Python']"
      ]
     },
     "execution_count": 24,
     "metadata": {},
     "output_type": "execute_result"
    }
   ],
   "source": [
    "# $ meta character used to match the pattern with the ending of the string else None\n",
    "pattern = re.compile(r\"Python$\")\n",
    "re.findall(pattern, text)"
   ]
  }
 ],
 "metadata": {
  "kernelspec": {
   "display_name": "Python 3",
   "language": "python",
   "name": "python3"
  },
  "language_info": {
   "codemirror_mode": {
    "name": "ipython",
    "version": 3
   },
   "file_extension": ".py",
   "mimetype": "text/x-python",
   "name": "python",
   "nbconvert_exporter": "python",
   "pygments_lexer": "ipython3",
   "version": "3.13.5"
  }
 },
 "nbformat": 4,
 "nbformat_minor": 5
}
